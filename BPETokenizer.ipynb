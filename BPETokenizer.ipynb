{
 "cells": [
  {
   "cell_type": "code",
   "execution_count": 1,
   "id": "cf38f887",
   "metadata": {},
   "outputs": [],
   "source": [
    "text = \"\"\"Taylor Alison Swift (born December 13, 1989) is an American singer-songwriter. Her versatile artistry, songwriting, and entrepreneurship have influenced the music industry, popular culture, and politics, and her life is a subject of widespread media coverage.Swift began professional songwriting at 14 and signed with Big Machine Records in 2005 to become a country singer. She released six studio albums under the label, four of them to country radio, starting with Taylor Swift (2006). Her next, Fearless (2008), explored country pop, and its singles \"Love Story\" and \"You Belong with Me\" catapulted her to mainstream fame. Speak Now (2010) infused rock influences, while Red (2012) experimented with electronic elements and featured Swift's first Billboard Hot 100 number-one song, \"We Are Never Ever Getting Back Together\". She departed from her country image with 1989 (2014), a synth-pop album supported by the chart-topping songs \"Shake It Off\", \"Blank Space\", and \"Bad Blood\". Media scrutiny inspired the hip-hop-influenced Reputation (2017) and its number-one single \"Look What You Made Me Do\".After signing with Republic Records in 2018, Swift released the eclectic pop album Lover (2019) and the autobiographical documentary Miss Americana (2020). She explored indie folk styles on the 2020 albums Folklore and Evermore, subdued electropop on Midnights (2022), and re-recorded four albums subtitled Taylor's Version after a dispute with Big Machine. These albums spawned the number-one songs \"Cruel Summer\", \"Cardigan\", \"Willow\", \"Anti-Hero\", \"All Too Well\", and \"Is It Over Now?\". Her Eras Tour (2023–2024) and its accompanying concert film became the highest-grossing tour and concert film of all time, respectively. Swift has directed several music videos and films such as Folklore: The Long Pond Studio Sessions (2020) and All Too Well: The Short Film (2021).One of the world's best-selling musicians, with over 200 million records sold as of 2019, Swift has been named Global Recording Artist\"\"\""
   ]
  },
  {
   "cell_type": "code",
   "execution_count": 160,
   "id": "f62ca1f4",
   "metadata": {},
   "outputs": [
    {
     "data": {
      "text/plain": [
       "2009"
      ]
     },
     "execution_count": 160,
     "metadata": {},
     "output_type": "execute_result"
    }
   ],
   "source": [
    "len(text)"
   ]
  },
  {
   "cell_type": "code",
   "execution_count": 161,
   "id": "02abddac",
   "metadata": {},
   "outputs": [],
   "source": [
    "org_tokens = text.encode('utf-8')"
   ]
  },
  {
   "cell_type": "code",
   "execution_count": 162,
   "id": "ebba48f7",
   "metadata": {},
   "outputs": [],
   "source": [
    "org_tokens = list((map(int, org_tokens)))"
   ]
  },
  {
   "cell_type": "code",
   "execution_count": 163,
   "id": "6c08c11e",
   "metadata": {},
   "outputs": [
    {
     "data": {
      "text/plain": [
       "2011"
      ]
     },
     "execution_count": 163,
     "metadata": {},
     "output_type": "execute_result"
    }
   ],
   "source": [
    "len(org_tokens)"
   ]
  },
  {
   "cell_type": "code",
   "execution_count": 164,
   "id": "2cbef432",
   "metadata": {},
   "outputs": [],
   "source": [
    "# dict = {}"
   ]
  },
  {
   "cell_type": "code",
   "execution_count": 165,
   "id": "7a74224f",
   "metadata": {},
   "outputs": [],
   "source": [
    "# for id1, id2 in zip(tokens, tokens[1:]):\n",
    "#     dict[(id1, id2)]  = dict.get((id1, id2), 0) + 1"
   ]
  },
  {
   "cell_type": "code",
   "execution_count": 166,
   "id": "303dcb55",
   "metadata": {},
   "outputs": [],
   "source": [
    "# print(sorted(((dict[k],k) for k in dict), reverse = True),)"
   ]
  },
  {
   "cell_type": "code",
   "execution_count": 167,
   "id": "12a82183",
   "metadata": {},
   "outputs": [],
   "source": [
    "# maxi = max(dict, key = dict.get)"
   ]
  },
  {
   "cell_type": "code",
   "execution_count": 168,
   "id": "792c3c44",
   "metadata": {},
   "outputs": [],
   "source": [
    "# maxi"
   ]
  },
  {
   "cell_type": "code",
   "execution_count": 169,
   "id": "06426372",
   "metadata": {},
   "outputs": [],
   "source": [
    "def replace(tokens, pair, idx):\n",
    "    newids = []\n",
    "    i = 0\n",
    "    while i < len(tokens):\n",
    "        if tokens[i] == pair[0] and i < len(tokens) - 1 and tokens[i+1] == pair[1]:\n",
    "            newids.append(idx)\n",
    "            i += 2\n",
    "        else:\n",
    "            newids.append(tokens[i])\n",
    "            i += 1\n",
    "    return newids"
   ]
  },
  {
   "cell_type": "code",
   "execution_count": 214,
   "id": "1eded704",
   "metadata": {},
   "outputs": [],
   "source": [
    " def freq(tokens, stats):\n",
    "        for pair in zip(tokens, tokens[1:]):\n",
    "            stats[pair]  = stats.get(pair, 0) + 1"
   ]
  },
  {
   "cell_type": "code",
   "execution_count": 171,
   "id": "90399f61",
   "metadata": {},
   "outputs": [],
   "source": [
    "# tokens = replace(tokens, maxi, 256)"
   ]
  },
  {
   "cell_type": "code",
   "execution_count": 172,
   "id": "204a0a7c",
   "metadata": {},
   "outputs": [],
   "source": [
    "# len(tokens)"
   ]
  },
  {
   "cell_type": "code",
   "execution_count": 262,
   "id": "e4afbd2d",
   "metadata": {},
   "outputs": [],
   "source": [
    "# dict = {}\n",
    "# for id1, id2 in zip(org_tokens, org_tokens[1:]):\n",
    "#     dict[(id1, id2)]  = dict.get((id1, id2), 0) + 1\n",
    "\n",
    "# print((sorted(((dict[k],k) for k in dict), reverse = True)))"
   ]
  },
  {
   "cell_type": "code",
   "execution_count": 174,
   "id": "fef1a36c",
   "metadata": {},
   "outputs": [],
   "source": [
    "initial = 256\n",
    "tokens = list(org_tokens)\n",
    "btree = {}\n",
    "vocab_size = 276\n",
    "num_merges = vocab_size - 256"
   ]
  },
  {
   "cell_type": "code",
   "execution_count": 263,
   "id": "8a7fa1c3",
   "metadata": {},
   "outputs": [],
   "source": [
    "# for i in range(num_merges):\n",
    "#     mapz = freq(tokens)\n",
    "#     maxi = max(mapz, key = mapz.get)\n",
    "#     tokens = replace(tokens, maxi, initial + i)\n",
    "#     btree[initial + i] = maxi\n",
    "# #     print(len(tokens))"
   ]
  },
  {
   "cell_type": "code",
   "execution_count": 176,
   "id": "f871c2c2",
   "metadata": {},
   "outputs": [
    {
     "data": {
      "text/plain": [
       "{256: (100, 32),\n",
       " 257: (101, 32),\n",
       " 258: (101, 114),\n",
       " 259: (115, 32),\n",
       " 260: (44, 32),\n",
       " 261: (105, 110),\n",
       " 262: (97, 110),\n",
       " 263: (111, 110),\n",
       " 264: (101, 256),\n",
       " 265: (116, 104),\n",
       " 266: (50, 48),\n",
       " 267: (111, 114),\n",
       " 268: (262, 256),\n",
       " 269: (119, 105),\n",
       " 270: (116, 32),\n",
       " 271: (101, 99),\n",
       " 272: (258, 32),\n",
       " 273: (261, 103),\n",
       " 274: (101, 108),\n",
       " 275: (40, 266)}"
      ]
     },
     "execution_count": 176,
     "metadata": {},
     "output_type": "execute_result"
    }
   ],
   "source": [
    "btree"
   ]
  },
  {
   "cell_type": "code",
   "execution_count": 177,
   "id": "31e4bc37",
   "metadata": {},
   "outputs": [
    {
     "data": {
      "text/plain": [
       "1564"
      ]
     },
     "execution_count": 177,
     "metadata": {},
     "output_type": "execute_result"
    }
   ],
   "source": [
    "len(tokens)"
   ]
  },
  {
   "cell_type": "code",
   "execution_count": 178,
   "id": "02836d83",
   "metadata": {},
   "outputs": [],
   "source": [
    "def treeDecode(token,btree,arr):\n",
    "    if token < 256:\n",
    "        arr.append(token)\n",
    "        return\n",
    "    l = btree[token][0]\n",
    "    r = btree[token][1]\n",
    "    \n",
    "    treeDecode(l, btree, arr)\n",
    "    treeDecode(r, btree, arr)"
   ]
  },
  {
   "cell_type": "code",
   "execution_count": 179,
   "id": "726d0608",
   "metadata": {},
   "outputs": [],
   "source": [
    "def decodet(tokens, btree):\n",
    "    final = []\n",
    "    for i in range(len(tokens)):\n",
    "        if tokens[i]>255:\n",
    "            lis = []\n",
    "            treeDecode(tokens[i], btree, lis)\n",
    "            final.extend(lis)\n",
    "        else:\n",
    "            final.append(tokens[i])\n",
    "        byte_array = bytearray(final)\n",
    "    \n",
    "    decoded_string = byte_array.decode('utf-8')\n",
    "    return decoded_string"
   ]
  },
  {
   "cell_type": "code",
   "execution_count": 180,
   "id": "ca5e867f",
   "metadata": {},
   "outputs": [],
   "source": [
    "stri = decodet(tokens, btree)"
   ]
  },
  {
   "cell_type": "code",
   "execution_count": 264,
   "id": "6e785653",
   "metadata": {},
   "outputs": [],
   "source": [
    "# (stri)"
   ]
  },
  {
   "cell_type": "code",
   "execution_count": 182,
   "id": "05a6cfae",
   "metadata": {},
   "outputs": [],
   "source": [
    "vocab = {idx : bytes([idx]) for idx in range(256)}\n",
    "\n",
    "for ix, (p0, p1) in btree.items():\n",
    "    vocab[ix] = vocab[p0] + vocab[p1]\n",
    "    "
   ]
  },
  {
   "cell_type": "code",
   "execution_count": 183,
   "id": "7cd0873e",
   "metadata": {},
   "outputs": [
    {
     "data": {
      "text/plain": [
       "{0: b'\\x00',\n",
       " 1: b'\\x01',\n",
       " 2: b'\\x02',\n",
       " 3: b'\\x03',\n",
       " 4: b'\\x04',\n",
       " 5: b'\\x05',\n",
       " 6: b'\\x06',\n",
       " 7: b'\\x07',\n",
       " 8: b'\\x08',\n",
       " 9: b'\\t',\n",
       " 10: b'\\n',\n",
       " 11: b'\\x0b',\n",
       " 12: b'\\x0c',\n",
       " 13: b'\\r',\n",
       " 14: b'\\x0e',\n",
       " 15: b'\\x0f',\n",
       " 16: b'\\x10',\n",
       " 17: b'\\x11',\n",
       " 18: b'\\x12',\n",
       " 19: b'\\x13',\n",
       " 20: b'\\x14',\n",
       " 21: b'\\x15',\n",
       " 22: b'\\x16',\n",
       " 23: b'\\x17',\n",
       " 24: b'\\x18',\n",
       " 25: b'\\x19',\n",
       " 26: b'\\x1a',\n",
       " 27: b'\\x1b',\n",
       " 28: b'\\x1c',\n",
       " 29: b'\\x1d',\n",
       " 30: b'\\x1e',\n",
       " 31: b'\\x1f',\n",
       " 32: b' ',\n",
       " 33: b'!',\n",
       " 34: b'\"',\n",
       " 35: b'#',\n",
       " 36: b'$',\n",
       " 37: b'%',\n",
       " 38: b'&',\n",
       " 39: b\"'\",\n",
       " 40: b'(',\n",
       " 41: b')',\n",
       " 42: b'*',\n",
       " 43: b'+',\n",
       " 44: b',',\n",
       " 45: b'-',\n",
       " 46: b'.',\n",
       " 47: b'/',\n",
       " 48: b'0',\n",
       " 49: b'1',\n",
       " 50: b'2',\n",
       " 51: b'3',\n",
       " 52: b'4',\n",
       " 53: b'5',\n",
       " 54: b'6',\n",
       " 55: b'7',\n",
       " 56: b'8',\n",
       " 57: b'9',\n",
       " 58: b':',\n",
       " 59: b';',\n",
       " 60: b'<',\n",
       " 61: b'=',\n",
       " 62: b'>',\n",
       " 63: b'?',\n",
       " 64: b'@',\n",
       " 65: b'A',\n",
       " 66: b'B',\n",
       " 67: b'C',\n",
       " 68: b'D',\n",
       " 69: b'E',\n",
       " 70: b'F',\n",
       " 71: b'G',\n",
       " 72: b'H',\n",
       " 73: b'I',\n",
       " 74: b'J',\n",
       " 75: b'K',\n",
       " 76: b'L',\n",
       " 77: b'M',\n",
       " 78: b'N',\n",
       " 79: b'O',\n",
       " 80: b'P',\n",
       " 81: b'Q',\n",
       " 82: b'R',\n",
       " 83: b'S',\n",
       " 84: b'T',\n",
       " 85: b'U',\n",
       " 86: b'V',\n",
       " 87: b'W',\n",
       " 88: b'X',\n",
       " 89: b'Y',\n",
       " 90: b'Z',\n",
       " 91: b'[',\n",
       " 92: b'\\\\',\n",
       " 93: b']',\n",
       " 94: b'^',\n",
       " 95: b'_',\n",
       " 96: b'`',\n",
       " 97: b'a',\n",
       " 98: b'b',\n",
       " 99: b'c',\n",
       " 100: b'd',\n",
       " 101: b'e',\n",
       " 102: b'f',\n",
       " 103: b'g',\n",
       " 104: b'h',\n",
       " 105: b'i',\n",
       " 106: b'j',\n",
       " 107: b'k',\n",
       " 108: b'l',\n",
       " 109: b'm',\n",
       " 110: b'n',\n",
       " 111: b'o',\n",
       " 112: b'p',\n",
       " 113: b'q',\n",
       " 114: b'r',\n",
       " 115: b's',\n",
       " 116: b't',\n",
       " 117: b'u',\n",
       " 118: b'v',\n",
       " 119: b'w',\n",
       " 120: b'x',\n",
       " 121: b'y',\n",
       " 122: b'z',\n",
       " 123: b'{',\n",
       " 124: b'|',\n",
       " 125: b'}',\n",
       " 126: b'~',\n",
       " 127: b'\\x7f',\n",
       " 128: b'\\x80',\n",
       " 129: b'\\x81',\n",
       " 130: b'\\x82',\n",
       " 131: b'\\x83',\n",
       " 132: b'\\x84',\n",
       " 133: b'\\x85',\n",
       " 134: b'\\x86',\n",
       " 135: b'\\x87',\n",
       " 136: b'\\x88',\n",
       " 137: b'\\x89',\n",
       " 138: b'\\x8a',\n",
       " 139: b'\\x8b',\n",
       " 140: b'\\x8c',\n",
       " 141: b'\\x8d',\n",
       " 142: b'\\x8e',\n",
       " 143: b'\\x8f',\n",
       " 144: b'\\x90',\n",
       " 145: b'\\x91',\n",
       " 146: b'\\x92',\n",
       " 147: b'\\x93',\n",
       " 148: b'\\x94',\n",
       " 149: b'\\x95',\n",
       " 150: b'\\x96',\n",
       " 151: b'\\x97',\n",
       " 152: b'\\x98',\n",
       " 153: b'\\x99',\n",
       " 154: b'\\x9a',\n",
       " 155: b'\\x9b',\n",
       " 156: b'\\x9c',\n",
       " 157: b'\\x9d',\n",
       " 158: b'\\x9e',\n",
       " 159: b'\\x9f',\n",
       " 160: b'\\xa0',\n",
       " 161: b'\\xa1',\n",
       " 162: b'\\xa2',\n",
       " 163: b'\\xa3',\n",
       " 164: b'\\xa4',\n",
       " 165: b'\\xa5',\n",
       " 166: b'\\xa6',\n",
       " 167: b'\\xa7',\n",
       " 168: b'\\xa8',\n",
       " 169: b'\\xa9',\n",
       " 170: b'\\xaa',\n",
       " 171: b'\\xab',\n",
       " 172: b'\\xac',\n",
       " 173: b'\\xad',\n",
       " 174: b'\\xae',\n",
       " 175: b'\\xaf',\n",
       " 176: b'\\xb0',\n",
       " 177: b'\\xb1',\n",
       " 178: b'\\xb2',\n",
       " 179: b'\\xb3',\n",
       " 180: b'\\xb4',\n",
       " 181: b'\\xb5',\n",
       " 182: b'\\xb6',\n",
       " 183: b'\\xb7',\n",
       " 184: b'\\xb8',\n",
       " 185: b'\\xb9',\n",
       " 186: b'\\xba',\n",
       " 187: b'\\xbb',\n",
       " 188: b'\\xbc',\n",
       " 189: b'\\xbd',\n",
       " 190: b'\\xbe',\n",
       " 191: b'\\xbf',\n",
       " 192: b'\\xc0',\n",
       " 193: b'\\xc1',\n",
       " 194: b'\\xc2',\n",
       " 195: b'\\xc3',\n",
       " 196: b'\\xc4',\n",
       " 197: b'\\xc5',\n",
       " 198: b'\\xc6',\n",
       " 199: b'\\xc7',\n",
       " 200: b'\\xc8',\n",
       " 201: b'\\xc9',\n",
       " 202: b'\\xca',\n",
       " 203: b'\\xcb',\n",
       " 204: b'\\xcc',\n",
       " 205: b'\\xcd',\n",
       " 206: b'\\xce',\n",
       " 207: b'\\xcf',\n",
       " 208: b'\\xd0',\n",
       " 209: b'\\xd1',\n",
       " 210: b'\\xd2',\n",
       " 211: b'\\xd3',\n",
       " 212: b'\\xd4',\n",
       " 213: b'\\xd5',\n",
       " 214: b'\\xd6',\n",
       " 215: b'\\xd7',\n",
       " 216: b'\\xd8',\n",
       " 217: b'\\xd9',\n",
       " 218: b'\\xda',\n",
       " 219: b'\\xdb',\n",
       " 220: b'\\xdc',\n",
       " 221: b'\\xdd',\n",
       " 222: b'\\xde',\n",
       " 223: b'\\xdf',\n",
       " 224: b'\\xe0',\n",
       " 225: b'\\xe1',\n",
       " 226: b'\\xe2',\n",
       " 227: b'\\xe3',\n",
       " 228: b'\\xe4',\n",
       " 229: b'\\xe5',\n",
       " 230: b'\\xe6',\n",
       " 231: b'\\xe7',\n",
       " 232: b'\\xe8',\n",
       " 233: b'\\xe9',\n",
       " 234: b'\\xea',\n",
       " 235: b'\\xeb',\n",
       " 236: b'\\xec',\n",
       " 237: b'\\xed',\n",
       " 238: b'\\xee',\n",
       " 239: b'\\xef',\n",
       " 240: b'\\xf0',\n",
       " 241: b'\\xf1',\n",
       " 242: b'\\xf2',\n",
       " 243: b'\\xf3',\n",
       " 244: b'\\xf4',\n",
       " 245: b'\\xf5',\n",
       " 246: b'\\xf6',\n",
       " 247: b'\\xf7',\n",
       " 248: b'\\xf8',\n",
       " 249: b'\\xf9',\n",
       " 250: b'\\xfa',\n",
       " 251: b'\\xfb',\n",
       " 252: b'\\xfc',\n",
       " 253: b'\\xfd',\n",
       " 254: b'\\xfe',\n",
       " 255: b'\\xff',\n",
       " 256: b'd ',\n",
       " 257: b'e ',\n",
       " 258: b'er',\n",
       " 259: b's ',\n",
       " 260: b', ',\n",
       " 261: b'in',\n",
       " 262: b'an',\n",
       " 263: b'on',\n",
       " 264: b'ed ',\n",
       " 265: b'th',\n",
       " 266: b'20',\n",
       " 267: b'or',\n",
       " 268: b'and ',\n",
       " 269: b'wi',\n",
       " 270: b't ',\n",
       " 271: b'ec',\n",
       " 272: b'er ',\n",
       " 273: b'ing',\n",
       " 274: b'el',\n",
       " 275: b'(20'}"
      ]
     },
     "execution_count": 183,
     "metadata": {},
     "output_type": "execute_result"
    }
   ],
   "source": [
    "vocab"
   ]
  },
  {
   "cell_type": "code",
   "execution_count": 184,
   "id": "0aa87919",
   "metadata": {},
   "outputs": [],
   "source": [
    "def decode(tokens, vocab):\n",
    "    t = b\"\".join(vocab[idx] for idx in tokens)\n",
    "    txt = t.decode('utf-8', errors = 'replace')\n",
    "    return txt"
   ]
  },
  {
   "cell_type": "code",
   "execution_count": 185,
   "id": "13e4464b",
   "metadata": {},
   "outputs": [],
   "source": [
    "txt = decode(tokens,vocab)"
   ]
  },
  {
   "cell_type": "code",
   "execution_count": 266,
   "id": "a09d7e65",
   "metadata": {},
   "outputs": [],
   "source": [
    "# txt"
   ]
  },
  {
   "cell_type": "code",
   "execution_count": 187,
   "id": "e109a108",
   "metadata": {},
   "outputs": [],
   "source": [
    "def encode(txt):\n",
    "    tokens = list(map(int, txt.encode('utf-8')))\n",
    "    while True:\n",
    "        stats = freq(tokens)\n",
    "        maxi = max(stats, key = lambda p: btree.get(p, float('inf')))\n",
    "        if maxi not in btree:\n",
    "            break\n",
    "        tokens = replace(tokens, maxi, btree[maxi])\n",
    "    return tokens"
   ]
  },
  {
   "cell_type": "code",
   "execution_count": 73,
   "id": "94b3731d",
   "metadata": {},
   "outputs": [],
   "source": [
    "t = \"\"\" Taylor Alison Swift was born on December 13, 1989,[1] in West Reading, Pennsylvania.[2] She is named after singer-songwriter James Taylor.[3] Her father, Scott Kingsley Swift, is a former stockbroker for Merrill Lynch[4] and her mother, Andrea Gardner Swift (née Finlay), worked for a time as a mutual fund marketing executive.[5] Taylor has a younger brother, actor Austin Swift.[6]\n",
    "Swift's mother is of Scottish and German descent, and her father is of Scottish and English descent with distant Italian ancestry.[7][8] Swift's paternal great-great-grandfather, Charles Carmine Antonio Baldi, was an Italian immigrant entrepreneur and community leader who opened several businesses in Philadelphia in the 1800s.[9][10][8] Her maternal grandmother, Marjorie (née Moehlenkamp) Finlay, was an opera singer.[11]\n",
    "Swift spent her early years on a Christmas tree farm that her father had purchased from one of his clients.[12][13] She is a Christian.[14] She attended preschool and kindergarten at Alvernia Montessori School, run by Bernardine Franciscan sisters,[15] before transferring to the Wyndcroft School.[16] The family moved to a rented house in Wyomissing, Pennsylvania,[17] where Swift attended Wyomissing Area Junior/Senior High School.[18]\n",
    "At age nine, Swift became interested in musical theater and performed in four Berks Youth Theatre Academy productions.[19] She also traveled regularly to New York City for vocal and acting lessons.[20] Swift later shifted her focus toward country music, inspired by Shania Twain's songs, which made her \"want to just run around the block four times and daydream about everything\".[21] She spent weekends performing at local festivals and events.[22][23] After watching a documentary about Faith Hill, Swift felt she needed to move to Nashville, Tennessee, to pursue a career in music.[24] She traveled there with her mother at age eleven to visit record labels and submitted demo tapes of Dolly Parton and Dixie Chicks karaoke covers.[25] She was rejected, however, because \"everyone in that town wanted to do what I wanted to do. So, I kept thinking to myself, I need to figure out a way to be different.\"[26] She spent summers in Stone Harbor, New Jersey until she was 14 years old, performing in a local coffee shop.[27][28]\n",
    "When Swift was around 12 years old, musician Ronnie Cremer taught her to play guitar. Cremer helped with her first efforts as a songwriter, leading her to write \"Lucky You\".[29] In 2003, Swift and her parents started working with New York–based talent manager Dan Dymtrow. With his help, Swift modeled for Abercrombie & Fitch as part of their \"Rising Stars\" campaign, had an original song included on a Maybelline compilation CD, and met with major record labels.[30] After performing original songs at an RCA Records showcase, Swift, then 13 years old, was given an artist development deal and began making frequent trips to Nashville with her mother.[31][32][33] To help Swift break into the country music scene, her father transferred to Merrill Lynch's Nashville office when she was 14 years old, and the family relocated to Hendersonville, Tennessee.[12][34] Swift attended Hendersonville High School[35] before transferring to Aaron Academy after two years, which better accommodated her touring schedule through homeschooling. She graduated one year early.[36][37]\n",
    "2004–2008: Career beginnings and first album \"\"\"\n"
   ]
  },
  {
   "cell_type": "code",
   "execution_count": 189,
   "id": "8d7df7f2",
   "metadata": {},
   "outputs": [
    {
     "data": {
      "text/plain": [
       "(3399, 3393)"
      ]
     },
     "execution_count": 189,
     "metadata": {},
     "output_type": "execute_result"
    }
   ],
   "source": [
    "len(ti),len(t)"
   ]
  },
  {
   "cell_type": "code",
   "execution_count": 80,
   "id": "646ed820",
   "metadata": {},
   "outputs": [],
   "source": [
    "class BasicTokenizer():\n",
    "    \n",
    "    def __init__(self, vocab_size):\n",
    "        \n",
    "        self.vocab = {idx : bytes([idx]) for idx in range(256)}\n",
    "        self.bigram_tree = {}\n",
    "        self.vocab_size = vocab_size\n",
    "    \n",
    "    def freq(self, tokens):\n",
    "        \n",
    "        stats = {}\n",
    "        for id1, id2 in zip(tokens, tokens[1:]):\n",
    "            stats[(id1, id2)]  = stats.get((id1, id2), 0) + 1\n",
    "        return stats\n",
    "    \n",
    "    def replace(self, tokens, pair, idx):\n",
    "        \n",
    "        newids = []\n",
    "        i = 0\n",
    "        while i < len(tokens):\n",
    "            if tokens[i] == pair[0] and i < len(tokens) - 1 and tokens[i+1] == pair[1]:\n",
    "                newids.append(idx)\n",
    "                i += 2\n",
    "            else:\n",
    "                newids.append(tokens[i])\n",
    "                i += 1\n",
    "        return newids\n",
    "    \n",
    "    def train(self,txt):\n",
    "        req = self.vocab_size - 256\n",
    "        tokens = list((txt.encode('utf-8')))\n",
    "        for i in range(req):\n",
    "            mapz = self.freq(tokens)\n",
    "            maxi = max(mapz, key = mapz.get)\n",
    "            tokens = self.replace(tokens, maxi, 256 + i)\n",
    "            self.bigram_tree[maxi] = 256 + i\n",
    "        \n",
    "        for (p0,p1),ix in self.bigram_tree.items():\n",
    "            self.vocab[ix] = self.vocab[p0] + self.vocab[p1]\n",
    "            \n",
    "    def encode(self, txt):\n",
    "        \n",
    "        tokenz = list(map(int, txt.encode('utf-8')))\n",
    "        while True:\n",
    "            stats = self.freq(tokenz)\n",
    "            maxi = min(stats, key = lambda p: self.bigram_tree.get(p, float('inf')))\n",
    "            if maxi not in self.bigram_tree:\n",
    "                break\n",
    "            tokenz = self.replace(tokenz, maxi, self.bigram_tree[maxi])\n",
    "        return tokenz\n",
    "\n",
    "    def decode(self, tokens):\n",
    "        \n",
    "        t = b\"\".join(self.vocab[idx] for idx in tokens)\n",
    "        txt = t.decode('utf-8', errors = 'replace')\n",
    "        return txt"
   ]
  },
  {
   "cell_type": "code",
   "execution_count": 81,
   "id": "2acc1c82",
   "metadata": {},
   "outputs": [],
   "source": [
    "tknzr = BasicTokenizer(400)"
   ]
  },
  {
   "cell_type": "code",
   "execution_count": 82,
   "id": "fbb6f3c2",
   "metadata": {},
   "outputs": [],
   "source": [
    "tknzr.train(text)"
   ]
  },
  {
   "cell_type": "code",
   "execution_count": 83,
   "id": "2911b5bd",
   "metadata": {},
   "outputs": [],
   "source": [
    "# tknzr.vocab"
   ]
  },
  {
   "cell_type": "code",
   "execution_count": 86,
   "id": "50f9a16b",
   "metadata": {},
   "outputs": [
    {
     "data": {
      "text/plain": [
       "True"
      ]
     },
     "execution_count": 86,
     "metadata": {},
     "output_type": "execute_result"
    }
   ],
   "source": [
    "tknzr.decode(tknzr.encode(t)) == t"
   ]
  },
  {
   "cell_type": "code",
   "execution_count": 85,
   "id": "19b342a1",
   "metadata": {},
   "outputs": [
    {
     "data": {
      "text/plain": [
       "3399"
      ]
     },
     "execution_count": 85,
     "metadata": {},
     "output_type": "execute_result"
    }
   ],
   "source": [
    "len(list(map(int, t.encode('utf-8'))))"
   ]
  },
  {
   "cell_type": "code",
   "execution_count": 195,
   "id": "8d4a6d8b",
   "metadata": {},
   "outputs": [],
   "source": [
    "import regex as re"
   ]
  },
  {
   "cell_type": "code",
   "execution_count": 12,
   "id": "2e3f94f8",
   "metadata": {},
   "outputs": [],
   "source": [
    "patt = r\"\"\"'(?i:[sdmt]|ll|ve|re)|[^\\r\\n\\p{L}\\p{N}]?+\\p{L}+|\\p{N}{1,3}| ?[^\\s\\p{L}\\p{N}]++[\\r\\n]*|\\s*[\\r\\n]|\\s+(?!\\S)|\\s+\"\"\"\n",
    "# len(re.findall(GPT4_SPLIT_PATTERN,t))"
   ]
  },
  {
   "cell_type": "code",
   "execution_count": 52,
   "id": "cf7cd995",
   "metadata": {},
   "outputs": [],
   "source": [
    "import regex as re\n",
    "\n",
    "class GPTTokenizer():\n",
    "    def __init__(self, vocab_size):\n",
    "        self.GPT4_SPLIT_PATTERN = r\"\"\"'(?i:[sdmt]|ll|ve|re)|[^\\r\\n\\p{L}\\p{N}]?+\\p{L}+|\\p{N}{1,3}| ?[^\\s\\p{L}\\p{N}]++[\\r\\n]*|\\s*[\\r\\n]|\\s+(?!\\S)|\\s+\"\"\"\n",
    "        self.vocab_size = vocab_size\n",
    "        self.bigram_tree = {}\n",
    "        self.vocab = {idx: bytes([idx]) for idx in range(256)}\n",
    "    \n",
    "    def split_text(self, text):\n",
    "        return re.findall(self.GPT4_SPLIT_PATTERN, text)\n",
    "    \n",
    "    def freq(self, tokens, stats):\n",
    "        for id1, id2 in zip(tokens, tokens[1:]):\n",
    "            stats[(id1, id2)] = stats.get((id1, id2), 0) + 1\n",
    "    \n",
    "    def replace(self, tokens, pair, idx):\n",
    "        newids = []\n",
    "        i = 0\n",
    "        while i < len(tokens):\n",
    "            if tokens[i] == pair[0] and i < len(tokens) - 1 and tokens[i+1] == pair[1]:\n",
    "                newids.append(idx)\n",
    "                i += 2\n",
    "            else:\n",
    "                newids.append(tokens[i])\n",
    "                i += 1\n",
    "        return newids \n",
    "    \n",
    "    def train(self, text):\n",
    "        chunks = re.findall(self.GPT4_SPLIT_PATTERN, text)\n",
    "        tokens = [list(chunk.encode('utf-8')) for chunk in chunks]\n",
    "        \n",
    "        for i in range(100):\n",
    "            stats = {}\n",
    "            for token in tokens:\n",
    "                self.freq(token, stats)\n",
    "            maxi = max(stats, key=stats.get)\n",
    "            tokens = [self.replace(token, maxi, 256 + i) for token in tokens]\n",
    "            self.bigram_tree[maxi] = 256 + i\n",
    "            self.vocab[256 + i] = self.vocab[maxi[0]] + self.vocab[maxi[1]]\n",
    "            \n",
    "    def _encode_chunk(self, tokens):\n",
    "        while len(tokens)>=2:\n",
    "            stats = {}\n",
    "            self.freq(tokens, stats)\n",
    "            pair = min(stats, key = lambda p: self.bigram_tree.get(p, float(\"inf\")))\n",
    "            if pair not in self.bigram_tree:\n",
    "                break\n",
    "            tokens = self.replace(tokens, pair, self.bigram_tree[pair])\n",
    "        return tokens\n",
    "    \n",
    "    def encode(self, text):\n",
    "        chunks = re.findall(self.GPT4_SPLIT_PATTERN, text)\n",
    "        tokens = []\n",
    "        for chunk in chunks:\n",
    "            tks = list(chunk.encode('utf-8'))\n",
    "            tks = self.encode_chunk(tks)\n",
    "            tokens.extend(tks)\n",
    "            \n",
    "        return tokens\n",
    "    \n",
    "    def decode(self, tokens):\n",
    "        x = (b\"\".join(self.vocab[idx] for idx in tokens))\n",
    "        text = x.decode('utf-8')\n",
    "        return text\n"
   ]
  },
  {
   "cell_type": "code",
   "execution_count": 53,
   "id": "70ae4cbc",
   "metadata": {},
   "outputs": [],
   "source": [
    "# txt = re.findall(patt, text)\n",
    "# tokens = [list(chunk.encode('utf-8')) for chunk in txt]\n",
    "# btree = {}\n",
    "# for i in range(400-256):\n",
    "#     stats = {}\n",
    "#     for token in tokens:\n",
    "#         freq(token, stats)\n",
    "#     maxi = max(stats, key = stats.get)\n",
    "#     tokens = [replace(token, maxi, 256 + i) for token in tokens]\n",
    "#     btree[maxi] = 256 + i\n",
    "#     vocab[256+i] = vocab[maxi[0]] + vocab[maxi[1]]"
   ]
  },
  {
   "cell_type": "code",
   "execution_count": 54,
   "id": "56ec49f6",
   "metadata": {},
   "outputs": [],
   "source": [
    "text = \"\"\"\"\"\"\n",
    "with open('/Users/vijayshekar/Downloads/taylorswift.txt', 'r') as file:\n",
    "    lines = file.readlines()\n",
    "    text = \"\".join(line for line in lines)"
   ]
  },
  {
   "cell_type": "code",
   "execution_count": 55,
   "id": "3645afa6",
   "metadata": {},
   "outputs": [
    {
     "data": {
      "text/plain": [
       "185561"
      ]
     },
     "execution_count": 55,
     "metadata": {},
     "output_type": "execute_result"
    }
   ],
   "source": [
    "len(text)"
   ]
  },
  {
   "cell_type": "code",
   "execution_count": 56,
   "id": "870e32ea",
   "metadata": {},
   "outputs": [],
   "source": [
    "tknzr = GPTTokenizer(400)"
   ]
  },
  {
   "cell_type": "code",
   "execution_count": 57,
   "id": "d1c8fd5f",
   "metadata": {},
   "outputs": [],
   "source": [
    "tknzr.train(text)"
   ]
  },
  {
   "cell_type": "code",
   "execution_count": 58,
   "id": "3ba40dc6",
   "metadata": {},
   "outputs": [
    {
     "data": {
      "text/plain": [
       "{0: b'\\x00',\n",
       " 1: b'\\x01',\n",
       " 2: b'\\x02',\n",
       " 3: b'\\x03',\n",
       " 4: b'\\x04',\n",
       " 5: b'\\x05',\n",
       " 6: b'\\x06',\n",
       " 7: b'\\x07',\n",
       " 8: b'\\x08',\n",
       " 9: b'\\t',\n",
       " 10: b'\\n',\n",
       " 11: b'\\x0b',\n",
       " 12: b'\\x0c',\n",
       " 13: b'\\r',\n",
       " 14: b'\\x0e',\n",
       " 15: b'\\x0f',\n",
       " 16: b'\\x10',\n",
       " 17: b'\\x11',\n",
       " 18: b'\\x12',\n",
       " 19: b'\\x13',\n",
       " 20: b'\\x14',\n",
       " 21: b'\\x15',\n",
       " 22: b'\\x16',\n",
       " 23: b'\\x17',\n",
       " 24: b'\\x18',\n",
       " 25: b'\\x19',\n",
       " 26: b'\\x1a',\n",
       " 27: b'\\x1b',\n",
       " 28: b'\\x1c',\n",
       " 29: b'\\x1d',\n",
       " 30: b'\\x1e',\n",
       " 31: b'\\x1f',\n",
       " 32: b' ',\n",
       " 33: b'!',\n",
       " 34: b'\"',\n",
       " 35: b'#',\n",
       " 36: b'$',\n",
       " 37: b'%',\n",
       " 38: b'&',\n",
       " 39: b\"'\",\n",
       " 40: b'(',\n",
       " 41: b')',\n",
       " 42: b'*',\n",
       " 43: b'+',\n",
       " 44: b',',\n",
       " 45: b'-',\n",
       " 46: b'.',\n",
       " 47: b'/',\n",
       " 48: b'0',\n",
       " 49: b'1',\n",
       " 50: b'2',\n",
       " 51: b'3',\n",
       " 52: b'4',\n",
       " 53: b'5',\n",
       " 54: b'6',\n",
       " 55: b'7',\n",
       " 56: b'8',\n",
       " 57: b'9',\n",
       " 58: b':',\n",
       " 59: b';',\n",
       " 60: b'<',\n",
       " 61: b'=',\n",
       " 62: b'>',\n",
       " 63: b'?',\n",
       " 64: b'@',\n",
       " 65: b'A',\n",
       " 66: b'B',\n",
       " 67: b'C',\n",
       " 68: b'D',\n",
       " 69: b'E',\n",
       " 70: b'F',\n",
       " 71: b'G',\n",
       " 72: b'H',\n",
       " 73: b'I',\n",
       " 74: b'J',\n",
       " 75: b'K',\n",
       " 76: b'L',\n",
       " 77: b'M',\n",
       " 78: b'N',\n",
       " 79: b'O',\n",
       " 80: b'P',\n",
       " 81: b'Q',\n",
       " 82: b'R',\n",
       " 83: b'S',\n",
       " 84: b'T',\n",
       " 85: b'U',\n",
       " 86: b'V',\n",
       " 87: b'W',\n",
       " 88: b'X',\n",
       " 89: b'Y',\n",
       " 90: b'Z',\n",
       " 91: b'[',\n",
       " 92: b'\\\\',\n",
       " 93: b']',\n",
       " 94: b'^',\n",
       " 95: b'_',\n",
       " 96: b'`',\n",
       " 97: b'a',\n",
       " 98: b'b',\n",
       " 99: b'c',\n",
       " 100: b'd',\n",
       " 101: b'e',\n",
       " 102: b'f',\n",
       " 103: b'g',\n",
       " 104: b'h',\n",
       " 105: b'i',\n",
       " 106: b'j',\n",
       " 107: b'k',\n",
       " 108: b'l',\n",
       " 109: b'm',\n",
       " 110: b'n',\n",
       " 111: b'o',\n",
       " 112: b'p',\n",
       " 113: b'q',\n",
       " 114: b'r',\n",
       " 115: b's',\n",
       " 116: b't',\n",
       " 117: b'u',\n",
       " 118: b'v',\n",
       " 119: b'w',\n",
       " 120: b'x',\n",
       " 121: b'y',\n",
       " 122: b'z',\n",
       " 123: b'{',\n",
       " 124: b'|',\n",
       " 125: b'}',\n",
       " 126: b'~',\n",
       " 127: b'\\x7f',\n",
       " 128: b'\\x80',\n",
       " 129: b'\\x81',\n",
       " 130: b'\\x82',\n",
       " 131: b'\\x83',\n",
       " 132: b'\\x84',\n",
       " 133: b'\\x85',\n",
       " 134: b'\\x86',\n",
       " 135: b'\\x87',\n",
       " 136: b'\\x88',\n",
       " 137: b'\\x89',\n",
       " 138: b'\\x8a',\n",
       " 139: b'\\x8b',\n",
       " 140: b'\\x8c',\n",
       " 141: b'\\x8d',\n",
       " 142: b'\\x8e',\n",
       " 143: b'\\x8f',\n",
       " 144: b'\\x90',\n",
       " 145: b'\\x91',\n",
       " 146: b'\\x92',\n",
       " 147: b'\\x93',\n",
       " 148: b'\\x94',\n",
       " 149: b'\\x95',\n",
       " 150: b'\\x96',\n",
       " 151: b'\\x97',\n",
       " 152: b'\\x98',\n",
       " 153: b'\\x99',\n",
       " 154: b'\\x9a',\n",
       " 155: b'\\x9b',\n",
       " 156: b'\\x9c',\n",
       " 157: b'\\x9d',\n",
       " 158: b'\\x9e',\n",
       " 159: b'\\x9f',\n",
       " 160: b'\\xa0',\n",
       " 161: b'\\xa1',\n",
       " 162: b'\\xa2',\n",
       " 163: b'\\xa3',\n",
       " 164: b'\\xa4',\n",
       " 165: b'\\xa5',\n",
       " 166: b'\\xa6',\n",
       " 167: b'\\xa7',\n",
       " 168: b'\\xa8',\n",
       " 169: b'\\xa9',\n",
       " 170: b'\\xaa',\n",
       " 171: b'\\xab',\n",
       " 172: b'\\xac',\n",
       " 173: b'\\xad',\n",
       " 174: b'\\xae',\n",
       " 175: b'\\xaf',\n",
       " 176: b'\\xb0',\n",
       " 177: b'\\xb1',\n",
       " 178: b'\\xb2',\n",
       " 179: b'\\xb3',\n",
       " 180: b'\\xb4',\n",
       " 181: b'\\xb5',\n",
       " 182: b'\\xb6',\n",
       " 183: b'\\xb7',\n",
       " 184: b'\\xb8',\n",
       " 185: b'\\xb9',\n",
       " 186: b'\\xba',\n",
       " 187: b'\\xbb',\n",
       " 188: b'\\xbc',\n",
       " 189: b'\\xbd',\n",
       " 190: b'\\xbe',\n",
       " 191: b'\\xbf',\n",
       " 192: b'\\xc0',\n",
       " 193: b'\\xc1',\n",
       " 194: b'\\xc2',\n",
       " 195: b'\\xc3',\n",
       " 196: b'\\xc4',\n",
       " 197: b'\\xc5',\n",
       " 198: b'\\xc6',\n",
       " 199: b'\\xc7',\n",
       " 200: b'\\xc8',\n",
       " 201: b'\\xc9',\n",
       " 202: b'\\xca',\n",
       " 203: b'\\xcb',\n",
       " 204: b'\\xcc',\n",
       " 205: b'\\xcd',\n",
       " 206: b'\\xce',\n",
       " 207: b'\\xcf',\n",
       " 208: b'\\xd0',\n",
       " 209: b'\\xd1',\n",
       " 210: b'\\xd2',\n",
       " 211: b'\\xd3',\n",
       " 212: b'\\xd4',\n",
       " 213: b'\\xd5',\n",
       " 214: b'\\xd6',\n",
       " 215: b'\\xd7',\n",
       " 216: b'\\xd8',\n",
       " 217: b'\\xd9',\n",
       " 218: b'\\xda',\n",
       " 219: b'\\xdb',\n",
       " 220: b'\\xdc',\n",
       " 221: b'\\xdd',\n",
       " 222: b'\\xde',\n",
       " 223: b'\\xdf',\n",
       " 224: b'\\xe0',\n",
       " 225: b'\\xe1',\n",
       " 226: b'\\xe2',\n",
       " 227: b'\\xe3',\n",
       " 228: b'\\xe4',\n",
       " 229: b'\\xe5',\n",
       " 230: b'\\xe6',\n",
       " 231: b'\\xe7',\n",
       " 232: b'\\xe8',\n",
       " 233: b'\\xe9',\n",
       " 234: b'\\xea',\n",
       " 235: b'\\xeb',\n",
       " 236: b'\\xec',\n",
       " 237: b'\\xed',\n",
       " 238: b'\\xee',\n",
       " 239: b'\\xef',\n",
       " 240: b'\\xf0',\n",
       " 241: b'\\xf1',\n",
       " 242: b'\\xf2',\n",
       " 243: b'\\xf3',\n",
       " 244: b'\\xf4',\n",
       " 245: b'\\xf5',\n",
       " 246: b'\\xf6',\n",
       " 247: b'\\xf7',\n",
       " 248: b'\\xf8',\n",
       " 249: b'\\xf9',\n",
       " 250: b'\\xfa',\n",
       " 251: b'\\xfb',\n",
       " 252: b'\\xfc',\n",
       " 253: b'\\xfd',\n",
       " 254: b'\\xfe',\n",
       " 255: b'\\xff',\n",
       " 256: b'er',\n",
       " 257: b'20',\n",
       " 258: b'or',\n",
       " 259: b'in',\n",
       " 260: b'ed',\n",
       " 261: b' t',\n",
       " 262: b'on',\n",
       " 263: b'he',\n",
       " 264: b' S',\n",
       " 265: b'ar',\n",
       " 266: b'an',\n",
       " 267: b' A',\n",
       " 268: b' the',\n",
       " 269: b'al',\n",
       " 270: b'ri',\n",
       " 271: b'ved',\n",
       " 272: b'st',\n",
       " 273: b'wi',\n",
       " 274: b' R',\n",
       " 275: b'201',\n",
       " 276: b' f',\n",
       " 277: b'202',\n",
       " 278: b' T',\n",
       " 279: b'ft',\n",
       " 280: b'ay',\n",
       " 281: b' \"',\n",
       " 282: b'wift',\n",
       " 283: b'et',\n",
       " 284: b' Swift',\n",
       " 285: b'ch',\n",
       " 286: b'ber',\n",
       " 287: b'at',\n",
       " 288: b'om',\n",
       " 289: b'es',\n",
       " 290: b'en',\n",
       " 291: b'em',\n",
       " 292: b'\".',\n",
       " 293: b' (',\n",
       " 294: b'.\\n',\n",
       " 295: b'ing',\n",
       " 296: b'lor',\n",
       " 297: b' M',\n",
       " 298: b'ig',\n",
       " 299: b' on',\n",
       " 300: b'aylor',\n",
       " 301: b'll',\n",
       " 302: b'rie',\n",
       " 303: b' Ret',\n",
       " 304: b' Retrie',\n",
       " 305: b' Retrieved',\n",
       " 306: b' s',\n",
       " 307: b'ic',\n",
       " 308: b'and',\n",
       " 309: b'ou',\n",
       " 310: b'ec',\n",
       " 311: b' a',\n",
       " 312: b').',\n",
       " 313: b'rom',\n",
       " 314: b' B',\n",
       " 315: b'ember',\n",
       " 316: b' o',\n",
       " 317: b' from',\n",
       " 318: b' Ar',\n",
       " 319: b' and',\n",
       " 320: b' C',\n",
       " 321: b' N',\n",
       " 322: b' or',\n",
       " 323: b'chi',\n",
       " 324: b' J',\n",
       " 325: b'inal',\n",
       " 326: b' orig',\n",
       " 327: b' original',\n",
       " 328: b' Archi',\n",
       " 329: b' Archived',\n",
       " 330: b' of',\n",
       " 331: b' h',\n",
       " 332: b' in',\n",
       " 333: b're',\n",
       " 334: b'Taylor',\n",
       " 335: b'it',\n",
       " 336: b'as',\n",
       " 337: b' p',\n",
       " 338: b'ion',\n",
       " 339: b' D',\n",
       " 340: b' w',\n",
       " 341: b'ard',\n",
       " 342: b'ill',\n",
       " 343: b\"'s\",\n",
       " 344: b' m',\n",
       " 345: b' F',\n",
       " 346: b' W',\n",
       " 347: b'le',\n",
       " 348: b' to',\n",
       " 349: b' c',\n",
       " 350: b'.[',\n",
       " 351: b'ov',\n",
       " 352: b'ly',\n",
       " 353: b'us',\n",
       " 354: b' H',\n",
       " 355: b'is'}"
      ]
     },
     "execution_count": 58,
     "metadata": {},
     "output_type": "execute_result"
    }
   ],
   "source": [
    "tknzr.vocab"
   ]
  },
  {
   "cell_type": "code",
   "execution_count": 59,
   "id": "03a392c4",
   "metadata": {},
   "outputs": [],
   "source": [
    "sample = \"\"\"Further information: List of songs by Taylor Swift\n",
    "Swift has been referred to as one of the greatest songwriters ever by several publications.[352][353][354] Literature scholars like Jonathan Bate and Stephanie Burt have noted that her literary and melodic sensibility and writing style are rare amongst her peers.[355][356] Swift's bridges are often noted as one of the best aspects of her songs,[357][358] earning her the title \"Queen of Bridges\" from Time.[359] Mojo described her as \"a sharp narrator with a gift for the extended metaphor\".[360]\n",
    "In The New Yorker in 2011, Swift said she identifies as a songwriter first: \"I write songs, and my voice is just a way to get those lyrics across\".[12] Her personal experiences were a common inspiration for her early songs, which helped her navigate life.[361][362] Her \"diaristic\" technique began with identifying an emotion, followed by a corresponding melody.[363][364] On her first three studio albums, love, heartbreak, and insecurities, from an adolescent perspective, were dominant themes.[365][366] She delved into the tumult of toxic relationships on Red,[367] and embraced nostalgia and post-romance positivity on 1989.[292] Reputation was inspired by the downsides of Swift's fame,[368] and Lover detailed her realization of the \"full spectrum of love\".[369] Other themes in Swift's music include family dynamics, friendship,[370][371] alienation, self-awareness, and tackling vitriol, especially sexism.[279][372]\n",
    "Her confessional lyrics received positive reviews from critics,[373][12][374] who highlighted their vivid details and emotional engagement, which they found uncommon in pop music.[375][376][377] Critics also praised her melodic compositions; Rolling Stone described Swift as \"a songwriting savant with an intuitive gift for verse-chorus-bridge architecture\".[378][379] NPR dubbed Swift \"a master of the vernacular in her lyrics\",[335] remarking that her songs offer emotional engagement because \"the wit and clarity of her arrangements turn them from standard fare to heartfelt disclosures\".[379] Despite the positive reception, The New Yorker stated she was generally portrayed \"more as a skilled technician than as a Dylanesque visionary\".[12] Tabloid media often speculated and linked the subjects of her songs with her ex-lovers, a practice reviewers and Swift herself criticized as sexist.[380][381][382] Aside from clues in album liner notes, Swift avoided talking about the subjects of her songs.[383]\n",
    "On her 2020 albums Folklore and Evermore, Swift was inspired by escapism and romanticism to explore fictional narratives.[384] She imposed emotions onto imagined characters and story arcs, which liberated her from tabloid attention and suggested new paths for her artistry.[363] Swift explained that she welcomed the new songwriting direction after she stopped worrying about commercial success.[384] According to Spin, she explored complex emotions with \"precision and devastation\" on Evermore.[385] Consequence stated her 2020 albums convinced skeptics of her songwriting prowess, noting her transformation from \"teenage wunderkind to a confident and careful adult\".[358]\n",
    "Swift divides her writing into three types: \"quill lyrics\", songs rooted in antiquated poeticism; \"fountain pen lyrics\", based on modern and vivid storylines; and \"glitter gel pen lyrics\", which are lively and frivolous.[386] Critics note the fifth track of every Swift album as the most \"emotionally vulnerable\" of the album.[387] Awarding her with the Songwriter Icon Award in 2021, the National Music Publishers' Association remarked that \"no one is more influential when it comes to writing music today\".[388] The Week deemed her the foremost female songwriter of modern times,[389] and the Nashville Songwriters Association International named her Songwriter-Artist of the Decade in 2022.[245] Swift has also published two original poems: \"Why She Disappeared\" and \"If You're Anything Like Me\".[390]\n",
    "Performances\n",
    "Further information: List of Taylor Swift live performances\"\"\""
   ]
  },
  {
   "cell_type": "code",
   "execution_count": 60,
   "id": "3a9c1100",
   "metadata": {},
   "outputs": [
    {
     "data": {
      "text/plain": [
       "True"
      ]
     },
     "execution_count": 60,
     "metadata": {},
     "output_type": "execute_result"
    }
   ],
   "source": [
    "tknzr.decode(tknzr.encode(sample)) == sample"
   ]
  },
  {
   "cell_type": "code",
   "execution_count": 61,
   "id": "65519674",
   "metadata": {},
   "outputs": [
    {
     "data": {
      "text/plain": [
       "'Further information: List of songs by Taylor Swift\\nSwift has been referred to as one of the greatest songwriters ever by several publications.[352][353][354] Literature scholars like Jonathan Bate and Stephanie Burt have noted that her literary and melodic sensibility and writing style are rare amongst her peers.[355][356] Swift\\'s bridges are often noted as one of the best aspects of her songs,[357][358] earning her the title \"Queen of Bridges\" from Time.[359] Mojo described her as \"a sharp narrator with a gift for the extended metaphor\".[360]\\nIn The New Yorker in 2011, Swift said she identifies as a songwriter first: \"I write songs, and my voice is just a way to get those lyrics across\".[12] Her personal experiences were a common inspiration for her early songs, which helped her navigate life.[361][362] Her \"diaristic\" technique began with identifying an emotion, followed by a corresponding melody.[363][364] On her first three studio albums, love, heartbreak, and insecurities, from an adolescent perspective, were dominant themes.[365][366] She delved into the tumult of toxic relationships on Red,[367] and embraced nostalgia and post-romance positivity on 1989.[292] Reputation was inspired by the downsides of Swift\\'s fame,[368] and Lover detailed her realization of the \"full spectrum of love\".[369] Other themes in Swift\\'s music include family dynamics, friendship,[370][371] alienation, self-awareness, and tackling vitriol, especially sexism.[279][372]\\nHer confessional lyrics received positive reviews from critics,[373][12][374] who highlighted their vivid details and emotional engagement, which they found uncommon in pop music.[375][376][377] Critics also praised her melodic compositions; Rolling Stone described Swift as \"a songwriting savant with an intuitive gift for verse-chorus-bridge architecture\".[378][379] NPR dubbed Swift \"a master of the vernacular in her lyrics\",[335] remarking that her songs offer emotional engagement because \"the wit and clarity of her arrangements turn them from standard fare to heartfelt disclosures\".[379] Despite the positive reception, The New Yorker stated she was generally portrayed \"more as a skilled technician than as a Dylanesque visionary\".[12] Tabloid media often speculated and linked the subjects of her songs with her ex-lovers, a practice reviewers and Swift herself criticized as sexist.[380][381][382] Aside from clues in album liner notes, Swift avoided talking about the subjects of her songs.[383]\\nOn her 2020 albums Folklore and Evermore, Swift was inspired by escapism and romanticism to explore fictional narratives.[384] She imposed emotions onto imagined characters and story arcs, which liberated her from tabloid attention and suggested new paths for her artistry.[363] Swift explained that she welcomed the new songwriting direction after she stopped worrying about commercial success.[384] According to Spin, she explored complex emotions with \"precision and devastation\" on Evermore.[385] Consequence stated her 2020 albums convinced skeptics of her songwriting prowess, noting her transformation from \"teenage wunderkind to a confident and careful adult\".[358]\\nSwift divides her writing into three types: \"quill lyrics\", songs rooted in antiquated poeticism; \"fountain pen lyrics\", based on modern and vivid storylines; and \"glitter gel pen lyrics\", which are lively and frivolous.[386] Critics note the fifth track of every Swift album as the most \"emotionally vulnerable\" of the album.[387] Awarding her with the Songwriter Icon Award in 2021, the National Music Publishers\\' Association remarked that \"no one is more influential when it comes to writing music today\".[388] The Week deemed her the foremost female songwriter of modern times,[389] and the Nashville Songwriters Association International named her Songwriter-Artist of the Decade in 2022.[245] Swift has also published two original poems: \"Why She Disappeared\" and \"If You\\'re Anything Like Me\".[390]\\nPerformances\\nFurther information: List of Taylor Swift live performances'"
      ]
     },
     "execution_count": 61,
     "metadata": {},
     "output_type": "execute_result"
    }
   ],
   "source": [
    "tknzr.decode(tknzr.encode(sample))"
   ]
  },
  {
   "cell_type": "code",
   "execution_count": 64,
   "id": "18f5fcee",
   "metadata": {},
   "outputs": [],
   "source": [
    "chunks = re.findall(patt, sample)\n",
    "total = 0\n",
    "for i in chunks:\n",
    "    total+=len(i)\n",
    "\n",
    "enc_chunks = tknzr.encode(sample)\n",
    "enc_total = len(enc_chunks)"
   ]
  },
  {
   "cell_type": "code",
   "execution_count": 65,
   "id": "0ffb163c",
   "metadata": {},
   "outputs": [
    {
     "data": {
      "text/plain": [
       "(4036, 2632)"
      ]
     },
     "execution_count": 65,
     "metadata": {},
     "output_type": "execute_result"
    }
   ],
   "source": [
    "total, enc_total"
   ]
  },
  {
   "cell_type": "code",
   "execution_count": null,
   "id": "0f9f53ef",
   "metadata": {},
   "outputs": [],
   "source": []
  }
 ],
 "metadata": {
  "kernelspec": {
   "display_name": "Python 3 (ipykernel)",
   "language": "python",
   "name": "python3"
  },
  "language_info": {
   "codemirror_mode": {
    "name": "ipython",
    "version": 3
   },
   "file_extension": ".py",
   "mimetype": "text/x-python",
   "name": "python",
   "nbconvert_exporter": "python",
   "pygments_lexer": "ipython3",
   "version": "3.10.6"
  },
  "toc": {
   "base_numbering": 1,
   "nav_menu": {},
   "number_sections": true,
   "sideBar": true,
   "skip_h1_title": false,
   "title_cell": "Table of Contents",
   "title_sidebar": "Contents",
   "toc_cell": false,
   "toc_position": {},
   "toc_section_display": true,
   "toc_window_display": false
  }
 },
 "nbformat": 4,
 "nbformat_minor": 5
}
